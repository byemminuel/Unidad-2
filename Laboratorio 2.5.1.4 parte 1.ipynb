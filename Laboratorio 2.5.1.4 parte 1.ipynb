{
 "cells": [
  {
   "cell_type": "code",
   "execution_count": 1,
   "id": "94023a21",
   "metadata": {},
   "outputs": [],
   "source": [
    "import datetime\n",
    "import csv\n",
    "import subprocess"
   ]
  },
  {
   "cell_type": "code",
   "execution_count": 2,
   "id": "a4914841",
   "metadata": {},
   "outputs": [
    {
     "name": "stdout",
     "output_type": "stream",
     "text": [
      "2022-09-28 21:09:22.612653 <class 'datetime.datetime'>\n"
     ]
    }
   ],
   "source": [
    "date_time = datetime.datetime.now()\n",
    "print(date_time, type(date_time))"
   ]
  },
  {
   "cell_type": "code",
   "execution_count": 3,
   "id": "5f804a41",
   "metadata": {},
   "outputs": [
    {
     "data": {
      "text/plain": [
       "'Wed, 28 Sep 2022 21:09:22'"
      ]
     },
     "execution_count": 3,
     "metadata": {},
     "output_type": "execute_result"
    }
   ],
   "source": [
    "date_time.strftime('%a, %d %b %Y %H:%M:%S')"
   ]
  },
  {
   "cell_type": "code",
   "execution_count": 4,
   "id": "41f75190",
   "metadata": {},
   "outputs": [
    {
     "data": {
      "text/plain": [
       "'2022 Sep 28, 21:09:22'"
      ]
     },
     "execution_count": 4,
     "metadata": {},
     "output_type": "execute_result"
    }
   ],
   "source": [
    "date_time.strftime('%Y %b %d, %H:%M:%S')"
   ]
  },
  {
   "cell_type": "code",
   "execution_count": 5,
   "id": "7d2edade",
   "metadata": {},
   "outputs": [],
   "source": [
    "speedtest_cmd = \"speedtest-cli --simple\"\n",
    "process = subprocess.Popen(speedtest_cmd.split(), stdout=subprocess.PIPE)\n",
    "process_output = process.communicate()[0]"
   ]
  },
  {
   "cell_type": "code",
   "execution_count": 6,
   "id": "5c8c2889",
   "metadata": {},
   "outputs": [
    {
     "name": "stdout",
     "output_type": "stream",
     "text": [
      "b'Ping: 28.556 ms\\r\\nDownload: 54.34 Mbit/s\\r\\nUpload: 9.84 Mbit/s\\r\\n' <class 'bytes'>\n"
     ]
    }
   ],
   "source": [
    "print(process_output, type(process_output))"
   ]
  },
  {
   "cell_type": "code",
   "execution_count": 7,
   "id": "373a1abb",
   "metadata": {},
   "outputs": [
    {
     "name": "stdout",
     "output_type": "stream",
     "text": [
      "[b'Ping:', b'28.556', b'ms', b'Download:', b'54.34', b'Mbit/s', b'Upload:', b'9.84', b'Mbit/s', '2022-09-28 21:09:45'] <class 'list'>\n"
     ]
    }
   ],
   "source": [
    "date_time = datetime.datetime.now().strftime(\"%Y-%m-%d %H:%M:%S\")\n",
    "process_output = process_output.split()\n",
    "process_output.append(date_time)\n",
    "print(process_output, type(process_output))"
   ]
  },
  {
   "cell_type": "code",
   "execution_count": 8,
   "id": "6be6096b",
   "metadata": {},
   "outputs": [],
   "source": [
    "def speedtest():\n",
    "    date_time = datetime.datetime.now().strftime(\"%Y-%m-%d %H:%M:%S\")\n",
    "    speedtest_cmd = \"speedtest-cli --simple\"\n",
    "    process = subprocess.Popen(speedtest_cmd.split(),stdout=subprocess.PIPE)\n",
    "    process_output = process.communicate()[0]\n",
    "    process_output = process_output.split()\n",
    "    process_output.append(date_time)\n",
    "    return process_output"
   ]
  },
  {
   "cell_type": "code",
   "execution_count": 9,
   "id": "47eb7f24",
   "metadata": {},
   "outputs": [
    {
     "data": {
      "text/plain": [
       "[b'Ping:',\n",
       " b'17.268',\n",
       " b'ms',\n",
       " b'Download:',\n",
       " b'53.92',\n",
       " b'Mbit/s',\n",
       " b'Upload:',\n",
       " b'9.40',\n",
       " b'Mbit/s',\n",
       " '2022-09-28 21:09:45']"
      ]
     },
     "execution_count": 9,
     "metadata": {},
     "output_type": "execute_result"
    }
   ],
   "source": [
    "speedtest()"
   ]
  },
  {
   "cell_type": "code",
   "execution_count": 10,
   "id": "d5a266ba",
   "metadata": {},
   "outputs": [],
   "source": [
    "with open(\"test.txt\",'w') as f:\n",
    "    f.write('test_msg')"
   ]
  },
  {
   "cell_type": "code",
   "execution_count": 11,
   "id": "f12f6ab5",
   "metadata": {},
   "outputs": [
    {
     "name": "stdout",
     "output_type": "stream",
     "text": [
      "test_msg\n"
     ]
    }
   ],
   "source": [
    "with open(\"test.txt\",'r') as f:\n",
    "    srt = f.read()\n",
    "    print(srt)"
   ]
  },
  {
   "cell_type": "code",
   "execution_count": 12,
   "id": "e0790a05",
   "metadata": {},
   "outputs": [],
   "source": [
    "def save_to_csv(data, filename):\n",
    "    try:\n",
    "        with open(filename + '.csv', 'a') as f:\n",
    "            wr = csv.writer(f)\n",
    "            wr.writerow(data)\n",
    "    except:\n",
    "            with open(filename + '.csv', 'w') as f:\n",
    "                wr = csv.writer(f)\n",
    "                wr.writerow(data)"
   ]
  },
  {
   "cell_type": "code",
   "execution_count": 25,
   "id": "d9ba09ef",
   "metadata": {},
   "outputs": [],
   "source": [
    "def print_from_csv(filename):\n",
    "    with open(filename + '.csv', 'r') as f:\n",
    "        re = csv.reader(f)\n",
    "        for row in re:\n",
    "            print (', '.join(row))"
   ]
  },
  {
   "cell_type": "code",
   "execution_count": 14,
   "id": "2ec5e176",
   "metadata": {},
   "outputs": [
    {
     "name": "stdout",
     "output_type": "stream",
     "text": [
      "Test number 0\n",
      "[b'Ping:', b'18.799', b'ms', b'Download:', b'54.34', b'Mbit/s', b'Upload:', b'9.57', b'Mbit/s', '2022-09-28 21:10:10']\n",
      "Test number 1\n",
      "[b'Ping:', b'19.585', b'ms', b'Download:', b'55.15', b'Mbit/s', b'Upload:', b'9.66', b'Mbit/s', '2022-09-28 21:10:33']\n",
      "Test number 2\n",
      "[b'Ping:', b'16.275', b'ms', b'Download:', b'54.07', b'Mbit/s', b'Upload:', b'9.34', b'Mbit/s', '2022-09-28 21:10:56']\n",
      "Test number 3\n",
      "[b'Ping:', b'17.105', b'ms', b'Download:', b'56.41', b'Mbit/s', b'Upload:', b'9.24', b'Mbit/s', '2022-09-28 21:11:19']\n",
      "Test number 4\n",
      "[b'Ping:', b'20.871', b'ms', b'Download:', b'54.56', b'Mbit/s', b'Upload:', b'9.13', b'Mbit/s', '2022-09-28 21:11:43']\n"
     ]
    }
   ],
   "source": [
    "for i in range(5):\n",
    "    speedtest_output = speedtest()\n",
    "    print('Test number {}'.format(i))\n",
    "    print(speedtest_output)\n",
    "    save_to_csv(speedtest_output, 'rpi_data_test')"
   ]
  },
  {
   "cell_type": "code",
   "execution_count": 26,
   "id": "bacf439d",
   "metadata": {},
   "outputs": [
    {
     "name": "stdout",
     "output_type": "stream",
     "text": [
      "b'Ping:', b'18.799', b'ms', b'Download:', b'54.34', b'Mbit/s', b'Upload:', b'9.57', b'Mbit/s', 2022-09-28 21:10:10\n",
      "\n",
      "b'Ping:', b'19.585', b'ms', b'Download:', b'55.15', b'Mbit/s', b'Upload:', b'9.66', b'Mbit/s', 2022-09-28 21:10:33\n",
      "\n",
      "b'Ping:', b'16.275', b'ms', b'Download:', b'54.07', b'Mbit/s', b'Upload:', b'9.34', b'Mbit/s', 2022-09-28 21:10:56\n",
      "\n",
      "b'Ping:', b'17.105', b'ms', b'Download:', b'56.41', b'Mbit/s', b'Upload:', b'9.24', b'Mbit/s', 2022-09-28 21:11:19\n",
      "\n",
      "b'Ping:', b'20.871', b'ms', b'Download:', b'54.56', b'Mbit/s', b'Upload:', b'9.13', b'Mbit/s', 2022-09-28 21:11:43\n",
      "\n"
     ]
    }
   ],
   "source": [
    "print_from_csv('rpi_data_test')"
   ]
  },
  {
   "cell_type": "code",
   "execution_count": null,
   "id": "ede47244",
   "metadata": {},
   "outputs": [],
   "source": []
  }
 ],
 "metadata": {
  "kernelspec": {
   "display_name": "Python 3 (ipykernel)",
   "language": "python",
   "name": "python3"
  },
  "language_info": {
   "codemirror_mode": {
    "name": "ipython",
    "version": 3
   },
   "file_extension": ".py",
   "mimetype": "text/x-python",
   "name": "python",
   "nbconvert_exporter": "python",
   "pygments_lexer": "ipython3",
   "version": "3.9.12"
  }
 },
 "nbformat": 4,
 "nbformat_minor": 5
}
